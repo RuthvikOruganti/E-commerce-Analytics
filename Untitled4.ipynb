{
 "cells": [
  {
   "cell_type": "code",
   "execution_count": 1,
   "id": "d0de8eb0-524d-42a8-b483-d54aa2e5a592",
   "metadata": {},
   "outputs": [
    {
     "name": "stdout",
     "output_type": "stream",
     "text": [
      "Imported geolocation.csv into geolocation\n",
      "Imported payments.csv into payments\n",
      "Imported order_items.csv into order_items\n"
     ]
    }
   ],
   "source": [
    "import pandas as pd\n",
    "import psycopg2\n",
    "import os\n",
    "\n",
    "# List of CSV files and their corresponding table names\n",
    "csv_files = [\n",
    "    ('customers.csv', 'customers'),\n",
    "    ('orders.csv', 'orders'),\n",
    "    ('sales.csv', 'sales'),\n",
    "    ('geolocation.csv', 'geolocation'),\n",
    "    ('payments.csv', 'payments'),\n",
    "    ('order_items.csv','order_items')# Added payments.csv for specific handling\n",
    "]\n",
    "\n",
    "# Connect to the PostgreSQL database\n",
    "conn = psycopg2.connect(\n",
    "    host='localhost',\n",
    "    user='postgres',\n",
    "    password='123',\n",
    "    dbname='Ecommerce'\n",
    ")\n",
    "cursor = conn.cursor()\n",
    "\n",
    "# Folder containing the CSV files\n",
    "folder_path = 'C:/Users/ruthv/Downloads/ecommerce1'  # Replace with actual folder path\n",
    "\n",
    "# Function to map pandas dtypes to PostgreSQL data types\n",
    "def get_sql_type(dtype):\n",
    "    if pd.api.types.is_integer_dtype(dtype):\n",
    "        return 'INTEGER'\n",
    "    elif pd.api.types.is_float_dtype(dtype):\n",
    "        return 'FLOAT'\n",
    "    elif pd.api.types.is_bool_dtype(dtype):\n",
    "        return 'BOOLEAN'\n",
    "    elif pd.api.types.is_datetime64_any_dtype(dtype):\n",
    "        return 'TIMESTAMP'\n",
    "    else:\n",
    "        return 'TEXT'\n",
    "\n",
    "# Loop over each CSV and import it\n",
    "for csv_file, table_name in csv_files:\n",
    "    file_path = os.path.join(folder_path, csv_file)\n",
    "    \n",
    "    # Read the CSV into a DataFrame\n",
    "    df = pd.read_csv(file_path)\n",
    "    \n",
    "    # Replace NaNs with None for SQL compatibility\n",
    "    df = df.where(pd.notnull(df), None)\n",
    "    \n",
    "    # Clean column names\n",
    "    df.columns = [col.replace(' ', '_').replace('-', '_').replace('.', '_') for col in df.columns]\n",
    "    \n",
    "    # Create table if it doesn't exist\n",
    "    columns = ', '.join([f'\"{col}\" {get_sql_type(df[col].dtype)}' for col in df.columns])\n",
    "    create_table_query = f'CREATE TABLE IF NOT EXISTS \"{table_name}\" ({columns});'\n",
    "    cursor.execute(create_table_query)\n",
    "\n",
    "    # Insert data into the table\n",
    "    for _, row in df.iterrows():\n",
    "        values = tuple(None if pd.isna(x) else x for x in row)\n",
    "        placeholders = ', '.join(['%s'] * len(row))\n",
    "        column_names = ', '.join([f'\"{col}\"' for col in df.columns])\n",
    "        sql = f'INSERT INTO \"{table_name}\" ({column_names}) VALUES ({placeholders})'\n",
    "        cursor.execute(sql, values)\n",
    "\n",
    "    # Commit after each file\n",
    "    conn.commit()\n",
    "    print(f\"Imported {csv_file} into {table_name}\")\n",
    "\n",
    "# Close connection\n",
    "cursor.close()\n",
    "conn.close()\n"
   ]
  },
  {
   "cell_type": "code",
   "execution_count": null,
   "id": "448e9467-ccd0-4d9d-ab32-bb72e6e96e0a",
   "metadata": {},
   "outputs": [],
   "source": []
  }
 ],
 "metadata": {
  "kernelspec": {
   "display_name": "Python 3 (ipykernel)",
   "language": "python",
   "name": "python3"
  },
  "language_info": {
   "codemirror_mode": {
    "name": "ipython",
    "version": 3
   },
   "file_extension": ".py",
   "mimetype": "text/x-python",
   "name": "python",
   "nbconvert_exporter": "python",
   "pygments_lexer": "ipython3",
   "version": "3.11.4"
  }
 },
 "nbformat": 4,
 "nbformat_minor": 5
}
